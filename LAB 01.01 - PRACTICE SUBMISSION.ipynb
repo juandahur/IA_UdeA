{
  "cells": [
    {
      "cell_type": "markdown",
      "metadata": {
        "id": "v1p_D_NtM_-w"
      },
      "source": [
        "# LAB 01.01 - Practice submission"
      ]
    },
    {
      "cell_type": "code",
      "execution_count": 1,
      "metadata": {
        "id": "2Fjh8qiVM_-x",
        "outputId": "999e27f8-7c31-4847-8649-09f5e9afec5b",
        "colab": {
          "base_uri": "https://localhost:8080/",
          "height": 73
        }
      },
      "outputs": [
        {
          "output_type": "display_data",
          "data": {
            "text/plain": [
              "<IPython.core.display.HTML object>"
            ],
            "text/html": [
              "\n",
              "<meta name=\"google-signin-client_id\"\n",
              "      content=\"461673936472-kdjosv61up3ac1ajeuq6qqu72upilmls.apps.googleusercontent.com\"/>\n",
              "<script src=\"https://apis.google.com/js/client:platform.js?onload=google_button_start\"></script>\n",
              "    "
            ]
          },
          "metadata": {}
        },
        {
          "output_type": "stream",
          "name": "stdout",
          "text": [
            "replicating local resources\n"
          ]
        },
        {
          "output_type": "execute_result",
          "data": {
            "text/plain": [
              "<IPython.core.display.HTML object>"
            ],
            "text/html": [
              "<h3>See <a href='https://m5knaekxo6.execute-api.us-west-2.amazonaws.com/dev-v0001/rlxmooc/web/login' target='_blank'>my courses and progress</a></h2>"
            ]
          },
          "metadata": {},
          "execution_count": 1
        }
      ],
      "source": [
        "!wget --no-cache -O init.py -q https://raw.githubusercontent.com/rramosp/ai4eng.v1.20211.udea/main/content/init.py\n",
        "import init; init.init(force_download=False); init.get_weblink()\n"
      ]
    },
    {
      "cell_type": "code",
      "execution_count": 5,
      "metadata": {
        "id": "VheMt_kKM_-y",
        "outputId": "74c0bf9b-dbfb-4034-9881-a168bf8dcaeb",
        "colab": {
          "base_uri": "https://localhost:8080/",
          "height": 74,
          "referenced_widgets": [
            "d1073862624f4a25926c9485dc3667ea",
            "0006e387648e44fab66f2bf1ee63fe00",
            "45191046db0c477eaa2f2dd92f7f6a39",
            "d659969d8205472cbb6125641dc0d8a6",
            "2446c85ec41348d298efbb65615c54ef",
            "2f70178664004379a29924e73e68b410",
            "1cbf5e72e4ed4359a004fb6919a28803",
            "d5c511b86ef34e278669ce1ae9bd3604",
            "5041da2f64274779a500b5f512153b93",
            "7b7291a12c94416d9aa8476c54004ee4",
            "32a2dea428874599a4e6ddd19a2e56dc",
            "87061121953a4a9c8cd0a27879e7631a",
            "5fc4b21f7eb0416680db69a15de431f7",
            "42e3e9ecd14b498e86f2eab04fdde7f9",
            "1ec318fc97864bf6aa243a8e8b493bec",
            "d2b842288ec9430c8bbdcb9fac20c848",
            "9893355db10647f5ba731da1a5a1ec0f",
            "fe15314a009b486abe7641ba7ecd9ab5",
            "b4d3e74eab4f4ac29aab7f68c5419430"
          ]
        }
      },
      "outputs": [
        {
          "output_type": "display_data",
          "data": {
            "text/plain": [
              "<IPython.core.display.HTML object>"
            ],
            "text/html": [
              "\n",
              "\n",
              "<script>\n",
              "console.log(\"loading...\")\n",
              "function http_post(url, data, callback){\n",
              "\n",
              "    var xhttp = new XMLHttpRequest();\n",
              "\n",
              "    xhttp.onreadystatechange = function() {\n",
              "        if (this.readyState == 4) {\n",
              "            if (this.status!=200) {\n",
              "                var t = JSON.parse(this.responseText)\n",
              "                if (\"error\" in t) {\n",
              "                    window.alert(t[\"error\"])\n",
              "                } else {\n",
              "                    console.log(this.responseText)\n",
              "                    window.alert(\"Unknown error, check the javascript console\")\n",
              "                }\n",
              "            } else {\n",
              "                callback(JSON.parse(this.responseText))\n",
              "            }\n",
              "        }\n",
              "    }    \n",
              "    console.log(\"POSTING TO\", url)\n",
              "    xhttp.open(\"POST\", url, true);\n",
              "    if (typeof data == 'undefined') {\n",
              "        xhttp.send()\n",
              "    } else {\n",
              "        xhttp.setRequestHeader(\"Content-type\", \"application/json\");\n",
              "        xhttp.send( JSON.stringify(data) );    \n",
              "    }\n",
              "}\n",
              "\n",
              "function google_button_start() {\n",
              "      window.google_code = '';\n",
              "      gapi.load('auth2', function() {\n",
              "        auth2 = gapi.auth2.init({\n",
              "          client_id: window.google_client_id,\n",
              "        });\n",
              "      });\n",
              "    }\n",
              "    \n",
              "    \n",
              "function user_info_callback(user_info) {\n",
              "    window.user_info = user_info\n",
              "    window.google_token = user_info['google_token']\n",
              "    var s = \"you are \"+user_info['email'] +\" .... wait for the cell below to complete signup\"\n",
              "    s = '-----------\\n'+s+'\\n-----------'\n",
              "    var cell = Jupyter.notebook.get_cell(window.current_cell_idx)    \n",
              "    cell.clear_output()\n",
              "    cell.output_area.append_output({output_type: \"stream\", text: s, name: \"stdout\"})\n",
              "    IPython.notebook.kernel.execute(\"global google_token; google_token = '\"+window.google_token+\"'\");\n",
              "    insert_login_cell()\n",
              "    var next_cell = Jupyter.notebook.get_cell(window.current_cell_idx+1)    \n",
              "    next_cell.execute()\n",
              "}\n",
              "\n",
              "\n",
              "window.user_info_callback = user_info_callback\n",
              " \n",
              "function insert_login_cell() {\n",
              "\n",
              "    var cell_idx = window.current_cell_idx\n",
              "    var cell = Jupyter.notebook.get_cell(window.current_cell_idx+1)\n",
              "    var next_cell_content = JSON.parse(JSON.stringify(cell))['source']\n",
              "    \n",
              "    s = \"student = session.Session(init.endpoint).login(course_id='ai4eng.v1.20211.udea', lab_id='L01.01', google_token=google_token)\"\n",
              "    if (next_cell_content!==s) {\n",
              "        if (!next_cell_content.includes(\"session.Session\")) {\n",
              "            Jupyter.notebook.insert_cell_below('code', cell_idx)\n",
              "        }\n",
              "        var cell = Jupyter.notebook.get_cell(cell_idx+1)\n",
              "        s = \"student = session.Session(init.endpoint).login(course_id=init.course_id, lab_id='L01.01', google_token=google_token)\"\n",
              "        cell.set_text(s)\n",
              "    }\n",
              "\n",
              "} \n",
              " \n",
              "function google_button_callback(code) {\n",
              "    var cell = Jupyter.notebook.get_cell(window.current_cell_idx)    \n",
              "    cell.clear_output()\n",
              "    cell.output_area.append_output({output_type: \"stream\", text: \"-----------\\nauthenticating ... please wait\\n-----------\", name: \"stdout\"})\n",
              "\n",
              "    window.google_code = code['code']  \n",
              "    \n",
              "    IPython.notebook.kernel.execute(\"global google_code; google_code = '\"+window.google_code+\"'\");\n",
              "    \n",
              "    data = {'google_code': code['code'],\n",
              "            'redirect_uri': window.location.origin}            \n",
              "                        \n",
              "            \n",
              "    r = http_post(\"https://m5knaekxo6.execute-api.us-west-2.amazonaws.com/dev-v0001/rlxmooc/api\"+\"/gu\", data=data, callback=window.user_info_callback)\n",
              "}\n",
              "    \n",
              "</script>\n",
              "\n",
              "<style>\n",
              ".hidden {\n",
              "  visibility: hidden;\n",
              "}\n",
              "\n",
              ".google_button { \n",
              "    color:black ; \n",
              "    font-size:100%;\n",
              "    background: url('https://developers-dot-devsite-v2-prod.appspot.com/identity/sign-in/g-normal.png') transparent 5px 50% no-repeat;\n",
              "    display: inline-block;\n",
              "    width: 200px;\n",
              "    height: 50px;\n",
              "    vertical-align: middle;\n",
              "    border: thin solid #888;\n",
              "    white-space: nowrap;\n",
              "    vertical-align: middle;\n",
              "}\n",
              "\n",
              ".login_button { \n",
              "    color:black ; \n",
              "    font-size:100%;\n",
              "    background: transparent;\n",
              "    display: inline-block;\n",
              "    vertical-align: middle;\n",
              "    border: thin solid #888;\n",
              "    white-space: nowrap;\n",
              "    vertical-align: middle;\n",
              "}\n",
              "</style>\n",
              "        "
            ]
          },
          "metadata": {}
        },
        {
          "output_type": "display_data",
          "data": {
            "text/plain": [
              "HBox(children=(VBox(children=(Text(value='', description='email', layout=Layout(height='25px', width='300px'))…"
            ],
            "application/vnd.jupyter.widget-view+json": {
              "version_major": 2,
              "version_minor": 0,
              "model_id": "d1073862624f4a25926c9485dc3667ea"
            }
          },
          "metadata": {}
        },
        {
          "output_type": "display_data",
          "data": {
            "text/plain": [
              "<IPython.core.display.Javascript object>"
            ],
            "application/javascript": [
              "\n",
              "        var cell_element = this.element.parents('.cell');\n",
              "        window.current_cell_idx = Jupyter.notebook.get_cell_elements().index(cell_element);    \n",
              "        "
            ]
          },
          "metadata": {}
        }
      ],
      "source": [
        "import inspect\n",
        "from local.lib.rlxmoocapi import session\n",
        "session.LoginSequence(endpoint=init.endpoint, course_id=init.course_id, lab_id=\"L01.01\", varname=\"student\");"
      ]
    },
    {
      "cell_type": "markdown",
      "metadata": {
        "id": "BGKwg27UM_-z"
      },
      "source": [
        "### Ejercicio 1: Suma dos matrices"
      ]
    },
    {
      "cell_type": "markdown",
      "metadata": {
        "id": "Iqmhkh49M_-z"
      },
      "source": [
        "Completa la función `suma_matrices` para que, dadas dos arrays numpy cualquiera devuelva la suma elemento a elemento.\n",
        "\n",
        "#### Ejemplo de ejecución\n",
        "\n",
        "    > s = np.array([1,2,3])\n",
        "    > t = np.array([4,5,6])\n",
        "    > suma_matrices(s,t)\n",
        "    \n",
        "      [5 7 9]\n",
        "     \n",
        "_Sugerencia_: completa el código de la siguiente manera:\n",
        "\n",
        "    def suma_matrices(a,b):\n",
        "       ## --- TU CODIGO AQUI ---\n",
        "       result = a + b\n",
        "       return result"
      ]
    },
    {
      "cell_type": "code",
      "execution_count": 8,
      "metadata": {
        "id": "MqvelAtxM_-0"
      },
      "outputs": [],
      "source": [
        "\n",
        "def suma_matrices(a,b):\n",
        "    ## --- TU CODIGO AQUI ---\n",
        "    result = a + b\n",
        "    return result\n",
        "\n"
      ]
    },
    {
      "cell_type": "markdown",
      "metadata": {
        "id": "vq0UxR4PM_-0"
      },
      "source": [
        "comprueba manualmente tu código"
      ]
    },
    {
      "cell_type": "code",
      "execution_count": 9,
      "metadata": {
        "id": "MzAwCUe8M_-1",
        "outputId": "88763451-9298-486d-c9cd-ba725a687d7c",
        "colab": {
          "base_uri": "https://localhost:8080/"
        }
      },
      "outputs": [
        {
          "output_type": "stream",
          "name": "stdout",
          "text": [
            "[[5 6]\n",
            " [0 5]\n",
            " [7 8]]\n",
            "[[9 0]\n",
            " [9 8]\n",
            " [4 0]]\n",
            "[[14  6]\n",
            " [ 9 13]\n",
            " [11  8]]\n"
          ]
        }
      ],
      "source": [
        "import numpy as np\n",
        "a = np.random.randint(10, size=(3,2))\n",
        "b = np.random.randint(10, size=(3,2))\n",
        "print (a)\n",
        "print (b)\n",
        "print (suma_matrices(a,b))"
      ]
    },
    {
      "cell_type": "markdown",
      "metadata": {
        "id": "tMzijvaNM_-1"
      },
      "source": [
        "#### registra tu solución en línea"
      ]
    },
    {
      "cell_type": "code",
      "execution_count": null,
      "metadata": {
        "id": "bFc3XPtYM_-1"
      },
      "outputs": [],
      "source": [
        "student.submit_task(globals(), task_id=\"task_01\");"
      ]
    },
    {
      "cell_type": "code",
      "source": [],
      "metadata": {
        "id": "Boxh6-vvPTBE"
      },
      "execution_count": null,
      "outputs": []
    },
    {
      "cell_type": "code",
      "source": [],
      "metadata": {
        "id": "veT8QBOVPTYs"
      },
      "execution_count": null,
      "outputs": []
    },
    {
      "cell_type": "markdown",
      "metadata": {
        "id": "3Q_Ujv7lM_-2"
      },
      "source": [
        "### Ejercicio 2: Realiza un cálculo "
      ]
    },
    {
      "cell_type": "markdown",
      "metadata": {
        "id": "kVbtcOQqM_-2"
      },
      "source": [
        "En este ejercicio, al ejecutar la celda de más abajo, se generará una lista de número aleatorios.\n",
        "\n",
        "Tendrás que calcular el valor promedio de la lista y asignarlo a la variable `avg` más abajo.\n",
        "\n",
        "Puedes usar el método que quieras para realizar el cálculo (a mano, excel, python, etc.) lo que importa es el valor que obtengas.\n"
      ]
    },
    {
      "cell_type": "code",
      "execution_count": 10,
      "metadata": {
        "id": "NtJbuWM2M_-3",
        "outputId": "1833b4df-056d-41eb-ec3e-336dadafb112",
        "colab": {
          "base_uri": "https://localhost:8080/"
        }
      },
      "outputs": [
        {
          "output_type": "execute_result",
          "data": {
            "text/plain": [
              "array([50, 24,  7, 23, 56, 75, 90, 48, 96, 48])"
            ]
          },
          "metadata": {},
          "execution_count": 10
        }
      ],
      "source": [
        "import numpy as np\n",
        "rlist = np.random.randint(100, size=10)\n",
        "rlist"
      ]
    },
    {
      "cell_type": "markdown",
      "metadata": {
        "id": "pT6Pu7-mM_-3"
      },
      "source": [
        "#### tu solución"
      ]
    },
    {
      "cell_type": "code",
      "execution_count": 12,
      "metadata": {
        "id": "_slYD7ZPM_-6",
        "outputId": "a258c230-80bb-4029-9fd4-d41a8b6209b4",
        "colab": {
          "base_uri": "https://localhost:8080/"
        }
      },
      "outputs": [
        {
          "output_type": "execute_result",
          "data": {
            "text/plain": [
              "51.7"
            ]
          },
          "metadata": {},
          "execution_count": 12
        }
      ],
      "source": [
        "avg = np.mean(rlist)\n",
        "avg"
      ]
    },
    {
      "cell_type": "markdown",
      "metadata": {
        "id": "YGt8u2b5M_-7"
      },
      "source": [
        "#### registra tu solución en línea"
      ]
    },
    {
      "cell_type": "code",
      "execution_count": null,
      "metadata": {
        "id": "CpkTbG6lM_-7"
      },
      "outputs": [],
      "source": [
        "student.submit_task(globals(), task_id=\"task_02\");"
      ]
    },
    {
      "cell_type": "code",
      "execution_count": null,
      "metadata": {
        "id": "IfZzGEYuM_-8"
      },
      "outputs": [],
      "source": []
    },
    {
      "cell_type": "code",
      "execution_count": null,
      "metadata": {
        "id": "YXrYc-lfM_-8"
      },
      "outputs": [],
      "source": []
    }
  ],
  "metadata": {
    "kernelspec": {
      "display_name": "Python 3",
      "language": "python",
      "name": "python3"
    },
    "language_info": {
      "codemirror_mode": {
        "name": "ipython",
        "version": 3
      },
      "file_extension": ".py",
      "mimetype": "text/x-python",
      "name": "python",
      "nbconvert_exporter": "python",
      "pygments_lexer": "ipython3",
      "version": "3.7.3"
    },
    "toc": {
      "toc_cell": false,
      "toc_number_sections": true,
      "toc_threshold": 6,
      "toc_window_display": false
    },
    "colab": {
      "provenance": []
    },
    "widgets": {
      "application/vnd.jupyter.widget-state+json": {
        "d1073862624f4a25926c9485dc3667ea": {
          "model_module": "@jupyter-widgets/controls",
          "model_name": "HBoxModel",
          "model_module_version": "1.5.0",
          "state": {
            "_dom_classes": [],
            "_model_module": "@jupyter-widgets/controls",
            "_model_module_version": "1.5.0",
            "_model_name": "HBoxModel",
            "_view_count": null,
            "_view_module": "@jupyter-widgets/controls",
            "_view_module_version": "1.5.0",
            "_view_name": "HBoxView",
            "box_style": "",
            "children": [
              "IPY_MODEL_0006e387648e44fab66f2bf1ee63fe00",
              "IPY_MODEL_45191046db0c477eaa2f2dd92f7f6a39",
              "IPY_MODEL_d659969d8205472cbb6125641dc0d8a6",
              "IPY_MODEL_2446c85ec41348d298efbb65615c54ef"
            ],
            "layout": "IPY_MODEL_2f70178664004379a29924e73e68b410"
          }
        },
        "0006e387648e44fab66f2bf1ee63fe00": {
          "model_module": "@jupyter-widgets/controls",
          "model_name": "VBoxModel",
          "model_module_version": "1.5.0",
          "state": {
            "_dom_classes": [],
            "_model_module": "@jupyter-widgets/controls",
            "_model_module_version": "1.5.0",
            "_model_name": "VBoxModel",
            "_view_count": null,
            "_view_module": "@jupyter-widgets/controls",
            "_view_module_version": "1.5.0",
            "_view_name": "VBoxView",
            "box_style": "",
            "children": [
              "IPY_MODEL_1cbf5e72e4ed4359a004fb6919a28803",
              "IPY_MODEL_d5c511b86ef34e278669ce1ae9bd3604"
            ],
            "layout": "IPY_MODEL_5041da2f64274779a500b5f512153b93"
          }
        },
        "45191046db0c477eaa2f2dd92f7f6a39": {
          "model_module": "@jupyter-widgets/controls",
          "model_name": "ButtonModel",
          "model_module_version": "1.5.0",
          "state": {
            "_dom_classes": [
              "login_button"
            ],
            "_model_module": "@jupyter-widgets/controls",
            "_model_module_version": "1.5.0",
            "_model_name": "ButtonModel",
            "_view_count": null,
            "_view_module": "@jupyter-widgets/controls",
            "_view_module_version": "1.5.0",
            "_view_name": "ButtonView",
            "button_style": "",
            "description": "Login with email",
            "disabled": false,
            "icon": "",
            "layout": "IPY_MODEL_7b7291a12c94416d9aa8476c54004ee4",
            "style": "IPY_MODEL_32a2dea428874599a4e6ddd19a2e56dc",
            "tooltip": ""
          }
        },
        "d659969d8205472cbb6125641dc0d8a6": {
          "model_module": "@jupyter-widgets/controls",
          "model_name": "HTMLModel",
          "model_module_version": "1.5.0",
          "state": {
            "_dom_classes": [],
            "_model_module": "@jupyter-widgets/controls",
            "_model_module_version": "1.5.0",
            "_model_name": "HTMLModel",
            "_view_count": null,
            "_view_module": "@jupyter-widgets/controls",
            "_view_module_version": "1.5.0",
            "_view_name": "HTMLView",
            "description": "",
            "description_tooltip": null,
            "layout": "IPY_MODEL_87061121953a4a9c8cd0a27879e7631a",
            "placeholder": "​",
            "style": "IPY_MODEL_5fc4b21f7eb0416680db69a15de431f7",
            "value": "<center><big>or</big></center>"
          }
        },
        "2446c85ec41348d298efbb65615c54ef": {
          "model_module": "@jupyter-widgets/controls",
          "model_name": "ButtonModel",
          "model_module_version": "1.5.0",
          "state": {
            "_dom_classes": [
              "google_button"
            ],
            "_model_module": "@jupyter-widgets/controls",
            "_model_module_version": "1.5.0",
            "_model_name": "ButtonModel",
            "_view_count": null,
            "_view_module": "@jupyter-widgets/controls",
            "_view_module_version": "1.5.0",
            "_view_name": "ButtonView",
            "button_style": "",
            "description": "Login with Google",
            "disabled": false,
            "icon": "",
            "layout": "IPY_MODEL_42e3e9ecd14b498e86f2eab04fdde7f9",
            "style": "IPY_MODEL_1ec318fc97864bf6aa243a8e8b493bec",
            "tooltip": ""
          }
        },
        "2f70178664004379a29924e73e68b410": {
          "model_module": "@jupyter-widgets/base",
          "model_name": "LayoutModel",
          "model_module_version": "1.2.0",
          "state": {
            "_model_module": "@jupyter-widgets/base",
            "_model_module_version": "1.2.0",
            "_model_name": "LayoutModel",
            "_view_count": null,
            "_view_module": "@jupyter-widgets/base",
            "_view_module_version": "1.2.0",
            "_view_name": "LayoutView",
            "align_content": null,
            "align_items": null,
            "align_self": null,
            "border": null,
            "bottom": null,
            "display": null,
            "flex": null,
            "flex_flow": null,
            "grid_area": null,
            "grid_auto_columns": null,
            "grid_auto_flow": null,
            "grid_auto_rows": null,
            "grid_column": null,
            "grid_gap": null,
            "grid_row": null,
            "grid_template_areas": null,
            "grid_template_columns": null,
            "grid_template_rows": null,
            "height": null,
            "justify_content": null,
            "justify_items": null,
            "left": null,
            "margin": null,
            "max_height": null,
            "max_width": null,
            "min_height": null,
            "min_width": null,
            "object_fit": null,
            "object_position": null,
            "order": null,
            "overflow": null,
            "overflow_x": null,
            "overflow_y": null,
            "padding": null,
            "right": null,
            "top": null,
            "visibility": null,
            "width": null
          }
        },
        "1cbf5e72e4ed4359a004fb6919a28803": {
          "model_module": "@jupyter-widgets/controls",
          "model_name": "TextModel",
          "model_module_version": "1.5.0",
          "state": {
            "_dom_classes": [],
            "_model_module": "@jupyter-widgets/controls",
            "_model_module_version": "1.5.0",
            "_model_name": "TextModel",
            "_view_count": null,
            "_view_module": "@jupyter-widgets/controls",
            "_view_module_version": "1.5.0",
            "_view_name": "TextView",
            "continuous_update": true,
            "description": "email",
            "description_tooltip": null,
            "disabled": false,
            "layout": "IPY_MODEL_d2b842288ec9430c8bbdcb9fac20c848",
            "placeholder": "​",
            "style": "IPY_MODEL_9893355db10647f5ba731da1a5a1ec0f",
            "value": ""
          }
        },
        "d5c511b86ef34e278669ce1ae9bd3604": {
          "model_module": "@jupyter-widgets/controls",
          "model_name": "PasswordModel",
          "model_module_version": "1.5.0",
          "state": {
            "_dom_classes": [],
            "_model_module": "@jupyter-widgets/controls",
            "_model_module_version": "1.5.0",
            "_model_name": "PasswordModel",
            "_view_count": null,
            "_view_module": "@jupyter-widgets/controls",
            "_view_module_version": "1.5.0",
            "_view_name": "PasswordView",
            "continuous_update": true,
            "description": "password",
            "description_tooltip": null,
            "disabled": false,
            "layout": "IPY_MODEL_fe15314a009b486abe7641ba7ecd9ab5",
            "placeholder": "​",
            "style": "IPY_MODEL_b4d3e74eab4f4ac29aab7f68c5419430",
            "value": ""
          }
        },
        "5041da2f64274779a500b5f512153b93": {
          "model_module": "@jupyter-widgets/base",
          "model_name": "LayoutModel",
          "model_module_version": "1.2.0",
          "state": {
            "_model_module": "@jupyter-widgets/base",
            "_model_module_version": "1.2.0",
            "_model_name": "LayoutModel",
            "_view_count": null,
            "_view_module": "@jupyter-widgets/base",
            "_view_module_version": "1.2.0",
            "_view_name": "LayoutView",
            "align_content": null,
            "align_items": null,
            "align_self": null,
            "border": null,
            "bottom": null,
            "display": null,
            "flex": null,
            "flex_flow": null,
            "grid_area": null,
            "grid_auto_columns": null,
            "grid_auto_flow": null,
            "grid_auto_rows": null,
            "grid_column": null,
            "grid_gap": null,
            "grid_row": null,
            "grid_template_areas": null,
            "grid_template_columns": null,
            "grid_template_rows": null,
            "height": null,
            "justify_content": null,
            "justify_items": null,
            "left": null,
            "margin": null,
            "max_height": null,
            "max_width": null,
            "min_height": null,
            "min_width": null,
            "object_fit": null,
            "object_position": null,
            "order": null,
            "overflow": null,
            "overflow_x": null,
            "overflow_y": null,
            "padding": null,
            "right": null,
            "top": null,
            "visibility": null,
            "width": null
          }
        },
        "7b7291a12c94416d9aa8476c54004ee4": {
          "model_module": "@jupyter-widgets/base",
          "model_name": "LayoutModel",
          "model_module_version": "1.2.0",
          "state": {
            "_model_module": "@jupyter-widgets/base",
            "_model_module_version": "1.2.0",
            "_model_name": "LayoutModel",
            "_view_count": null,
            "_view_module": "@jupyter-widgets/base",
            "_view_module_version": "1.2.0",
            "_view_name": "LayoutView",
            "align_content": null,
            "align_items": null,
            "align_self": null,
            "border": null,
            "bottom": null,
            "display": null,
            "flex": null,
            "flex_flow": null,
            "grid_area": null,
            "grid_auto_columns": null,
            "grid_auto_flow": null,
            "grid_auto_rows": null,
            "grid_column": null,
            "grid_gap": null,
            "grid_row": null,
            "grid_template_areas": null,
            "grid_template_columns": null,
            "grid_template_rows": null,
            "height": "53px",
            "justify_content": null,
            "justify_items": null,
            "left": null,
            "margin": null,
            "max_height": null,
            "max_width": null,
            "min_height": null,
            "min_width": null,
            "object_fit": null,
            "object_position": null,
            "order": null,
            "overflow": null,
            "overflow_x": null,
            "overflow_y": null,
            "padding": null,
            "right": null,
            "top": null,
            "visibility": null,
            "width": "150px"
          }
        },
        "32a2dea428874599a4e6ddd19a2e56dc": {
          "model_module": "@jupyter-widgets/controls",
          "model_name": "ButtonStyleModel",
          "model_module_version": "1.5.0",
          "state": {
            "_model_module": "@jupyter-widgets/controls",
            "_model_module_version": "1.5.0",
            "_model_name": "ButtonStyleModel",
            "_view_count": null,
            "_view_module": "@jupyter-widgets/base",
            "_view_module_version": "1.2.0",
            "_view_name": "StyleView",
            "button_color": null,
            "font_weight": ""
          }
        },
        "87061121953a4a9c8cd0a27879e7631a": {
          "model_module": "@jupyter-widgets/base",
          "model_name": "LayoutModel",
          "model_module_version": "1.2.0",
          "state": {
            "_model_module": "@jupyter-widgets/base",
            "_model_module_version": "1.2.0",
            "_model_name": "LayoutModel",
            "_view_count": null,
            "_view_module": "@jupyter-widgets/base",
            "_view_module_version": "1.2.0",
            "_view_name": "LayoutView",
            "align_content": null,
            "align_items": null,
            "align_self": null,
            "border": null,
            "bottom": null,
            "display": null,
            "flex": null,
            "flex_flow": null,
            "grid_area": null,
            "grid_auto_columns": null,
            "grid_auto_flow": null,
            "grid_auto_rows": null,
            "grid_column": null,
            "grid_gap": null,
            "grid_row": null,
            "grid_template_areas": null,
            "grid_template_columns": null,
            "grid_template_rows": null,
            "height": null,
            "justify_content": null,
            "justify_items": null,
            "left": null,
            "margin": null,
            "max_height": null,
            "max_width": null,
            "min_height": null,
            "min_width": null,
            "object_fit": null,
            "object_position": null,
            "order": null,
            "overflow": null,
            "overflow_x": null,
            "overflow_y": null,
            "padding": null,
            "right": null,
            "top": null,
            "visibility": null,
            "width": "100px"
          }
        },
        "5fc4b21f7eb0416680db69a15de431f7": {
          "model_module": "@jupyter-widgets/controls",
          "model_name": "DescriptionStyleModel",
          "model_module_version": "1.5.0",
          "state": {
            "_model_module": "@jupyter-widgets/controls",
            "_model_module_version": "1.5.0",
            "_model_name": "DescriptionStyleModel",
            "_view_count": null,
            "_view_module": "@jupyter-widgets/base",
            "_view_module_version": "1.2.0",
            "_view_name": "StyleView",
            "description_width": ""
          }
        },
        "42e3e9ecd14b498e86f2eab04fdde7f9": {
          "model_module": "@jupyter-widgets/base",
          "model_name": "LayoutModel",
          "model_module_version": "1.2.0",
          "state": {
            "_model_module": "@jupyter-widgets/base",
            "_model_module_version": "1.2.0",
            "_model_name": "LayoutModel",
            "_view_count": null,
            "_view_module": "@jupyter-widgets/base",
            "_view_module_version": "1.2.0",
            "_view_name": "LayoutView",
            "align_content": null,
            "align_items": null,
            "align_self": null,
            "border": null,
            "bottom": null,
            "display": null,
            "flex": null,
            "flex_flow": null,
            "grid_area": null,
            "grid_auto_columns": null,
            "grid_auto_flow": null,
            "grid_auto_rows": null,
            "grid_column": null,
            "grid_gap": null,
            "grid_row": null,
            "grid_template_areas": null,
            "grid_template_columns": null,
            "grid_template_rows": null,
            "height": "53px",
            "justify_content": null,
            "justify_items": null,
            "left": null,
            "margin": null,
            "max_height": null,
            "max_width": null,
            "min_height": null,
            "min_width": null,
            "object_fit": null,
            "object_position": null,
            "order": null,
            "overflow": null,
            "overflow_x": null,
            "overflow_y": null,
            "padding": null,
            "right": null,
            "top": null,
            "visibility": null,
            "width": "200px"
          }
        },
        "1ec318fc97864bf6aa243a8e8b493bec": {
          "model_module": "@jupyter-widgets/controls",
          "model_name": "ButtonStyleModel",
          "model_module_version": "1.5.0",
          "state": {
            "_model_module": "@jupyter-widgets/controls",
            "_model_module_version": "1.5.0",
            "_model_name": "ButtonStyleModel",
            "_view_count": null,
            "_view_module": "@jupyter-widgets/base",
            "_view_module_version": "1.2.0",
            "_view_name": "StyleView",
            "button_color": null,
            "font_weight": ""
          }
        },
        "d2b842288ec9430c8bbdcb9fac20c848": {
          "model_module": "@jupyter-widgets/base",
          "model_name": "LayoutModel",
          "model_module_version": "1.2.0",
          "state": {
            "_model_module": "@jupyter-widgets/base",
            "_model_module_version": "1.2.0",
            "_model_name": "LayoutModel",
            "_view_count": null,
            "_view_module": "@jupyter-widgets/base",
            "_view_module_version": "1.2.0",
            "_view_name": "LayoutView",
            "align_content": null,
            "align_items": null,
            "align_self": null,
            "border": null,
            "bottom": null,
            "display": null,
            "flex": null,
            "flex_flow": null,
            "grid_area": null,
            "grid_auto_columns": null,
            "grid_auto_flow": null,
            "grid_auto_rows": null,
            "grid_column": null,
            "grid_gap": null,
            "grid_row": null,
            "grid_template_areas": null,
            "grid_template_columns": null,
            "grid_template_rows": null,
            "height": "25px",
            "justify_content": null,
            "justify_items": null,
            "left": null,
            "margin": null,
            "max_height": null,
            "max_width": null,
            "min_height": null,
            "min_width": null,
            "object_fit": null,
            "object_position": null,
            "order": null,
            "overflow": null,
            "overflow_x": null,
            "overflow_y": null,
            "padding": null,
            "right": null,
            "top": null,
            "visibility": null,
            "width": "300px"
          }
        },
        "9893355db10647f5ba731da1a5a1ec0f": {
          "model_module": "@jupyter-widgets/controls",
          "model_name": "DescriptionStyleModel",
          "model_module_version": "1.5.0",
          "state": {
            "_model_module": "@jupyter-widgets/controls",
            "_model_module_version": "1.5.0",
            "_model_name": "DescriptionStyleModel",
            "_view_count": null,
            "_view_module": "@jupyter-widgets/base",
            "_view_module_version": "1.2.0",
            "_view_name": "StyleView",
            "description_width": ""
          }
        },
        "fe15314a009b486abe7641ba7ecd9ab5": {
          "model_module": "@jupyter-widgets/base",
          "model_name": "LayoutModel",
          "model_module_version": "1.2.0",
          "state": {
            "_model_module": "@jupyter-widgets/base",
            "_model_module_version": "1.2.0",
            "_model_name": "LayoutModel",
            "_view_count": null,
            "_view_module": "@jupyter-widgets/base",
            "_view_module_version": "1.2.0",
            "_view_name": "LayoutView",
            "align_content": null,
            "align_items": null,
            "align_self": null,
            "border": null,
            "bottom": null,
            "display": null,
            "flex": null,
            "flex_flow": null,
            "grid_area": null,
            "grid_auto_columns": null,
            "grid_auto_flow": null,
            "grid_auto_rows": null,
            "grid_column": null,
            "grid_gap": null,
            "grid_row": null,
            "grid_template_areas": null,
            "grid_template_columns": null,
            "grid_template_rows": null,
            "height": "24px",
            "justify_content": null,
            "justify_items": null,
            "left": null,
            "margin": null,
            "max_height": null,
            "max_width": null,
            "min_height": null,
            "min_width": null,
            "object_fit": null,
            "object_position": null,
            "order": null,
            "overflow": null,
            "overflow_x": null,
            "overflow_y": null,
            "padding": null,
            "right": null,
            "top": null,
            "visibility": null,
            "width": "300px"
          }
        },
        "b4d3e74eab4f4ac29aab7f68c5419430": {
          "model_module": "@jupyter-widgets/controls",
          "model_name": "DescriptionStyleModel",
          "model_module_version": "1.5.0",
          "state": {
            "_model_module": "@jupyter-widgets/controls",
            "_model_module_version": "1.5.0",
            "_model_name": "DescriptionStyleModel",
            "_view_count": null,
            "_view_module": "@jupyter-widgets/base",
            "_view_module_version": "1.2.0",
            "_view_name": "StyleView",
            "description_width": ""
          }
        }
      }
    }
  },
  "nbformat": 4,
  "nbformat_minor": 0
}